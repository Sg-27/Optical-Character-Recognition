{
  "nbformat": 4,
  "nbformat_minor": 0,
  "metadata": {
    "colab": {
      "provenance": [],
      "gpuType": "T4",
      "include_colab_link": true
    },
    "kernelspec": {
      "name": "python3",
      "display_name": "Python 3"
    },
    "language_info": {
      "name": "python"
    },
    "accelerator": "GPU"
  },
  "cells": [
    {
      "cell_type": "markdown",
      "metadata": {
        "id": "view-in-github",
        "colab_type": "text"
      },
      "source": [
        "<a href=\"https://colab.research.google.com/github/Sg-27/Optical-Character-Recognition/blob/main/Part_2.ipynb\" target=\"_parent\"><img src=\"https://colab.research.google.com/assets/colab-badge.svg\" alt=\"Open In Colab\"/></a>"
      ]
    },
    {
      "cell_type": "code",
      "execution_count": null,
      "metadata": {
        "id": "M4gdgdiZu2BS"
      },
      "outputs": [],
      "source": [
        "import os\n",
        "from PIL import Image\n",
        "import torch\n",
        "from torch.utils.data import Dataset, random_split\n",
        "import torchvision.transforms as transforms\n",
        "\n",
        "\n"
      ]
    },
    {
      "cell_type": "code",
      "source": [
        "import torch\n",
        "device = torch.device('cuda:0' if torch.cuda.is_available() else 'cpu')\n",
        "\n",
        "# Assuming that we are on a CUDA machine, this should print a CUDA device:\n",
        "\n",
        "print(f\"We are training on {device} for this experiment\")\n",
        "\n",
        "assert 'cuda' in repr(device), \"GPU is not selected in hardware accelerator dropdown\""
      ],
      "metadata": {
        "colab": {
          "base_uri": "https://localhost:8080/"
        },
        "id": "Yw92CNA0vchJ",
        "outputId": "aa020ad2-1000-4556-cacb-0f6396ed82fc"
      },
      "execution_count": null,
      "outputs": [
        {
          "output_type": "stream",
          "name": "stdout",
          "text": [
            "We are training on cuda:0 for this experiment\n"
          ]
        }
      ]
    },
    {
      "cell_type": "code",
      "source": [
        "from google.colab import drive\n",
        "drive.mount('/content/drive')"
      ],
      "metadata": {
        "colab": {
          "base_uri": "https://localhost:8080/"
        },
        "id": "IqpaQ_qkvfR-",
        "outputId": "cb7bd3e3-a257-4638-d1d1-d8a7982b901b"
      },
      "execution_count": null,
      "outputs": [
        {
          "output_type": "stream",
          "name": "stdout",
          "text": [
            "Mounted at /content/drive\n"
          ]
        }
      ]
    },
    {
      "cell_type": "code",
      "source": [
        "your_google_drive_path = \"/content/drive/MyDrive/Custom Dataset/\"\n",
        "import os\n",
        "assert os.path.isdir(your_google_drive_path), f\"{your_google_drive_path} is not a valid location\""
      ],
      "metadata": {
        "id": "eqFz5Oc5vgCE"
      },
      "execution_count": null,
      "outputs": []
    },
    {
      "cell_type": "code",
      "source": [
        "class CustomDigitsDataset(Dataset):\n",
        "    def __init__(self, root_folder, transform=None):\n",
        "        self.root_folder = root_folder\n",
        "        self.transform = transform\n",
        "        self.data, self.labels = self.load_data()\n",
        "\n",
        "\n",
        "    def load_data(self):\n",
        "        data = []\n",
        "        labels = []\n",
        "        digit_folders = sorted(os.listdir(self.root_folder))\n",
        "\n",
        "        for label, digit_folder in enumerate(digit_folders):\n",
        "            digit_path = os.path.join(self.root_folder, digit_folder)\n",
        "            for image_name in os.listdir(digit_path):\n",
        "                image_path = os.path.join(digit_path, image_name)\n",
        "                img = Image.open(image_path).convert('L')  # Convert to grayscale\n",
        "\n",
        "                data.append(img)\n",
        "                labels.append(label)\n",
        "                #print(label)\n",
        "\n",
        "        return data, labels\n",
        "\n",
        "    def __len__(self):\n",
        "        return len(self.data)\n",
        "\n",
        "    def __getitem__(self, index):\n",
        "        img = self.data[index]\n",
        "        label = self.labels[index]\n",
        "\n",
        "        if self.transform:\n",
        "            img = self.transform(img)\n",
        "\n",
        "        return img, label\n"
      ],
      "metadata": {
        "id": "yUEyvrhiwY8T"
      },
      "execution_count": null,
      "outputs": []
    },
    {
      "cell_type": "code",
      "source": [
        "# transform = transforms.Compose([\n",
        "#     transforms.ToTensor(),\n",
        "#     transforms.Resize(size=(32,32))\n",
        "# ])\n",
        "transform = transforms.Compose([\n",
        "    transforms.ToTensor(),\n",
        "    transforms.Resize(size=(32,32)),\n",
        "    transforms.CenterCrop(size=(24,24))\n",
        "])\n",
        "batch_size=4\n",
        "\n",
        "# Specify the path to the root folder containing digit folders\n",
        "#root_folder_path = '/path/to/root_folder'\n",
        "your_google_drive_path='/content/drive/MyDrive/Custom Dataset'\n",
        "custom_dataset = CustomDigitsDataset(your_google_drive_path, transform=transform)\n",
        "\n",
        "# Split the dataset into training and testing sets\n",
        "print(len(custom_dataset))\n",
        "train_size = int(0.8 * len(custom_dataset))\n",
        "test_size = len(custom_dataset) - train_size\n",
        "train_dataset, test_dataset = random_split(custom_dataset, [train_size, test_size])\n",
        "\n",
        "# Example usage:\n",
        "train_loader = torch.utils.data.DataLoader(train_dataset, batch_size=batch_size, shuffle=True)\n",
        "test_loader = torch.utils.data.DataLoader(test_dataset, batch_size=batch_size, shuffle=False)\n"
      ],
      "metadata": {
        "colab": {
          "base_uri": "https://localhost:8080/"
        },
        "id": "9RD2YrarxFQ_",
        "outputId": "efa493a4-43d3-4fd7-c7bc-76abd103a61d"
      },
      "execution_count": null,
      "outputs": [
        {
          "output_type": "stream",
          "name": "stdout",
          "text": [
            "540\n"
          ]
        }
      ]
    },
    {
      "cell_type": "code",
      "source": [
        "%matplotlib inline\n",
        "import torch\n",
        "import torchvision\n",
        "import torchvision.transforms as transforms"
      ],
      "metadata": {
        "id": "YHIIpeau3XTr"
      },
      "execution_count": null,
      "outputs": []
    },
    {
      "cell_type": "code",
      "source": [
        "import matplotlib.pyplot as plt\n",
        "import numpy as np\n",
        "\n",
        "# functions to show an imageonefinal22@gmail.com\n",
        "\n",
        "\n",
        "def imshow(img):\n",
        "    img = img / 2 + 0.5     # unnormalize\n",
        "    npimg = img.numpy()\n",
        "    plt.imshow(np.transpose(npimg, (1, 2, 0)))\n",
        "    plt.show()\n",
        "\n",
        "\n",
        "# get some random training images\n",
        "dataiter = iter(train_loader)\n",
        "images, labels = next(dataiter)\n",
        "print(images.shape)\n",
        "classes = ('zero', 'one', 'two', 'three',\n",
        "           'four', 'five','six','seven','eight','nine')\n",
        "# show images\n",
        "imshow(torchvision.utils.make_grid(images))\n",
        "# print labels\n",
        "print(' '.join(f'{classes[labels[j]]:5s}' for j in range(batch_size)))"
      ],
      "metadata": {
        "colab": {
          "base_uri": "https://localhost:8080/",
          "height": 283
        },
        "id": "W2iLknuV3E_g",
        "outputId": "53881359-1e49-49ee-f6c1-e0e4413e5c0e"
      },
      "execution_count": null,
      "outputs": [
        {
          "output_type": "stream",
          "name": "stdout",
          "text": [
            "torch.Size([4, 1, 24, 24])\n"
          ]
        },
        {
          "output_type": "stream",
          "name": "stderr",
          "text": [
            "/usr/local/lib/python3.10/dist-packages/torchvision/transforms/functional.py:1603: UserWarning: The default value of the antialias parameter of all the resizing transforms (Resize(), RandomResizedCrop(), etc.) will change from None to True in v0.17, in order to be consistent across the PIL and Tensor backends. To suppress this warning, directly pass antialias=True (recommended, future default), antialias=None (current default, which means False for Tensors and True for PIL), or antialias=False (only works on Tensors - PIL will still use antialiasing). This also applies if you are using the inference transforms from the models weights: update the call to weights.transforms(antialias=True).\n",
            "  warnings.warn(\n"
          ]
        },
        {
          "output_type": "display_data",
          "data": {
            "text/plain": [
              "<Figure size 640x480 with 1 Axes>"
            ],
            "image/png": "[encoded data removed]"
          },
          "metadata": {}
        },
        {
          "output_type": "stream",
          "name": "stdout",
          "text": [
            "nine  four  four  seven\n"
          ]
        }
      ]
    },
    {
      "cell_type": "code",
      "source": [
        "import torch\n",
        "import torch.nn as nn\n",
        "# import torch.optim as optim\n",
        "# from torch.utils.data import DataLoader\n",
        "# from torchvision import datasets, transforms\n",
        "\n",
        "# Define the basic block for the ResNet\n",
        "class BasicBlock(nn.Module):\n",
        "    def __init__(self, in_channels, out_channels, stride):\n",
        "        super(BasicBlock, self).__init__()\n",
        "\n",
        "        self.conv1 = nn.Conv2d(in_channels, out_channels, kernel_size=3, stride=stride, padding=1, bias=False)\n",
        "        self.bn1 = nn.BatchNorm2d(out_channels)\n",
        "        self.relu = nn.ReLU(inplace=True)\n",
        "        self.conv2 = nn.Conv2d(out_channels, out_channels, kernel_size=3, stride=1, padding=1, bias=False)\n",
        "        self.bn2 = nn.BatchNorm2d(out_channels)\n",
        "\n",
        "        self.shortcut = nn.Sequential()\n",
        "        if stride != 1 or in_channels != out_channels:\n",
        "            self.shortcut = nn.Sequential(\n",
        "                nn.Conv2d(in_channels, out_channels, kernel_size=1, stride=stride, bias=False),\n",
        "                nn.BatchNorm2d(out_channels)\n",
        "            )\n",
        "\n",
        "    def forward(self, x):\n",
        "        residual = x\n",
        "        out = self.conv1(x)\n",
        "        out = self.bn1(out)\n",
        "        out = self.relu(out)\n",
        "        out = self.conv2(out)\n",
        "        out = self.bn2(out)\n",
        "        out += self.shortcut(residual)\n",
        "        out = self.relu(out)\n",
        "        return out\n",
        "\n",
        "# Define the ResNet-9 model\n",
        "class ResNet9(nn.Module):\n",
        "    def __init__(self, num_classes=10):\n",
        "        super(ResNet9, self).__init__()\n",
        "\n",
        "        self.conv1 = nn.Conv2d(1, 64, kernel_size=3, stride=1, padding=1, bias=False)\n",
        "        self.bn1 = nn.BatchNorm2d(64)\n",
        "        self.relu = nn.ReLU(inplace=True)\n",
        "\n",
        "        self.block1 = BasicBlock(64, 128, stride=2)\n",
        "        self.block2 = BasicBlock(128, 256, stride=2)\n",
        "        self.block3 = BasicBlock(256, 512, stride=2)\n",
        "\n",
        "        self.avg_pool = nn.AdaptiveAvgPool2d((1, 1))\n",
        "        self.fc = nn.Linear(512, num_classes)\n",
        "\n",
        "    def forward(self, x):\n",
        "        out = self.conv1(x)\n",
        "        out = self.bn1(out)\n",
        "        out = self.relu(out)\n",
        "\n",
        "        out = self.block1(out)\n",
        "        out = self.block2(out)\n",
        "        out = self.block3(out)\n",
        "\n",
        "        out = self.avg_pool(out)\n",
        "        out = out.view(out.size(0), -1)\n",
        "        out = self.fc(out)\n",
        "\n",
        "        return out\n"
      ],
      "metadata": {
        "id": "QcLbsCBn9Bip"
      },
      "execution_count": null,
      "outputs": []
    },
    {
      "cell_type": "code",
      "source": [
        "device = torch.device('cuda' if torch.cuda.is_available() else 'cpu')\n",
        "model = ResNet9().to(device)"
      ],
      "metadata": {
        "id": "yM9JaHx_9GEl"
      },
      "execution_count": null,
      "outputs": []
    },
    {
      "cell_type": "code",
      "source": [
        "import torch.optim as optim\n",
        "\n",
        "criterion = nn.CrossEntropyLoss()\n",
        "optimizer = optim.SGD(model.parameters(), lr=0.001, momentum=0.9)"
      ],
      "metadata": {
        "id": "IDnC77mx9I6V"
      },
      "execution_count": null,
      "outputs": []
    },
    {
      "cell_type": "code",
      "source": [
        "def validator(test_loader=None,model=None):\n",
        "    correct = 0\n",
        "    total = 0\n",
        "    model.eval()\n",
        "    # since we're not training, we don't need to calculate the gradients for our outputs\n",
        "    with torch.no_grad():\n",
        "        for data in test_loader:\n",
        "            images, labels = data\n",
        "            images = images.to(device)\n",
        "            labels = labels.to(device)\n",
        "\n",
        "            # calculate outputs by running images through the network\n",
        "            outputs = model(images)\n",
        "            # the class with the highest energy is what we choose as prediction\n",
        "            # perform max along dimension 1, since dimension 0 is batch dimension\n",
        "            _, predicted = torch.max(outputs.data, 1)\n",
        "            total += labels.size(0)\n",
        "            correct += (predicted == labels).sum().item()\n",
        "\n",
        "    print(f'Accuracy of the network on the 540 test images: {100 * correct // total} %')\n",
        "    return correct/total"
      ],
      "metadata": {
        "id": "FcyCTbcU9JhZ"
      },
      "execution_count": null,
      "outputs": []
    },
    {
      "cell_type": "code",
      "source": [
        "start_epoch=0\n",
        "end_epoch=20"
      ],
      "metadata": {
        "id": "uZAsUJea9NDR"
      },
      "execution_count": null,
      "outputs": []
    },
    {
      "cell_type": "code",
      "source": [
        "your_google_drive_path=\"/content/drive/MyDrive/check_point/\""
      ],
      "metadata": {
        "id": "BuiYcpSIMxPY"
      },
      "execution_count": null,
      "outputs": []
    },
    {
      "cell_type": "code",
      "source": [
        "best_accuracy = -1.0\n",
        "for epoch in range(start_epoch,end_epoch):  # loop over the dataset multiple times\n",
        "\n",
        "    running_loss = 0.0\n",
        "    for i, data in enumerate(train_loader, 0):\n",
        "        # get the inputs; data is a list of [inputs, labels]\n",
        "        inputs, labels = data\n",
        "\n",
        "        inputs = inputs.to(device)\n",
        "        labels = labels.to(device)\n",
        "\n",
        "        # zero the parameter gradients\n",
        "        optimizer.zero_grad()\n",
        "\n",
        "        # forward + backward + optimize\n",
        "        outputs = model(inputs)\n",
        "        loss = criterion(outputs, labels)\n",
        "        loss.backward()\n",
        "        optimizer.step()\n",
        "\n",
        "        # print statistics\n",
        "        running_loss += loss.item()\n",
        "        if i % 2000 == 1999:    # print every 2000 mini-batches\n",
        "            print(f'[{epoch + 1}, {i + 1:5d}] loss: {running_loss / 2000:.3f}')\n",
        "            running_loss = 0.0\n",
        "\n",
        "    current_accuracy = validator(test_loader=test_loader,model=model)\n",
        "    if current_accuracy>best_accuracy:\n",
        "        best_accuracy = current_accuracy\n",
        "\n",
        "        torch.save(\n",
        "            {'epoch':epoch,\n",
        "             'model_state_dict': model.state_dict(),\n",
        "             'optimizer_state_dict': optimizer.state_dict()\n",
        "             },\n",
        "\n",
        "             your_google_drive_path+'best_model.pth')\n",
        "\n",
        "    #Save model as checkpoint\n",
        "    torch.save(\n",
        "        {'epoch':epoch,\n",
        "         'model_state_dict': model.state_dict(),\n",
        "         'optimizer_state_dict': optimizer.state_dict()\n",
        "         },\n",
        "         your_google_drive_path+'checkpoint.pth')\n",
        "\n",
        "\n",
        "\n",
        "print('Finished Training')"
      ],
      "metadata": {
        "colab": {
          "base_uri": "https://localhost:8080/"
        },
        "id": "mbLelbjq9Qgu",
        "outputId": "756ebe85-999a-4cdd-aa79-0994bb30cbfa"
      },
      "execution_count": null,
      "outputs": [
        {
          "output_type": "stream",
          "name": "stdout",
          "text": [
            "Accuracy of the network on the 540 test images: 45 %\n",
            "Accuracy of the network on the 540 test images: 50 %\n",
            "Accuracy of the network on the 540 test images: 60 %\n",
            "Accuracy of the network on the 540 test images: 68 %\n",
            "Accuracy of the network on the 540 test images: 67 %\n",
            "Accuracy of the network on the 540 test images: 62 %\n",
            "Accuracy of the network on the 540 test images: 69 %\n",
            "Accuracy of the network on the 540 test images: 76 %\n",
            "Accuracy of the network on the 540 test images: 75 %\n",
            "Accuracy of the network on the 540 test images: 72 %\n",
            "Accuracy of the network on the 540 test images: 72 %\n",
            "Accuracy of the network on the 540 test images: 73 %\n",
            "Accuracy of the network on the 540 test images: 73 %\n",
            "Accuracy of the network on the 540 test images: 73 %\n",
            "Accuracy of the network on the 540 test images: 73 %\n",
            "Accuracy of the network on the 540 test images: 74 %\n",
            "Accuracy of the network on the 540 test images: 74 %\n",
            "Accuracy of the network on the 540 test images: 74 %\n",
            "Accuracy of the network on the 540 test images: 75 %\n",
            "Accuracy of the network on the 540 test images: 75 %\n",
            "Finished Training\n"
          ]
        }
      ]
    },
    {
      "cell_type": "code",
      "source": [
        "dataiter = iter(test_loader)\n",
        "images, labels = next(dataiter)\n",
        "images, labels=next(dataiter)\n",
        "batch_size=4\n",
        "\n",
        "# print images\n",
        "imshow(torchvision.utils.make_grid(images))\n",
        "#print('GroundTruth: ', ' '.join(f'{classes[labels[j]]:5s}' for j in range(4)))\n",
        "print(' '.join(f'{classes[labels[j]]:5s}' for j in range(batch_size)))"
      ],
      "metadata": {
        "colab": {
          "base_uri": "https://localhost:8080/",
          "height": 211
        },
        "id": "nZ5AuLU7NPvl",
        "outputId": "121b37cf-ddb0-4542-abe7-349cb17a75b0"
      },
      "execution_count": null,
      "outputs": [
        {
          "output_type": "display_data",
          "data": {
            "text/plain": [
              "<Figure size 640x480 with 1 Axes>"
            ],
            "image/png": "[encoded data removed]"
          },
          "metadata": {}
        },
        {
          "output_type": "stream",
          "name": "stdout",
          "text": [
            "seven one   three eight\n"
          ]
        }
      ]
    },
    {
      "cell_type": "code",
      "source": [
        "net_best = ResNet9().to(device)\n",
        "checkpoint = torch.load(your_google_drive_path+'best_model.pth')\n",
        "net_best.load_state_dict(checkpoint['model_state_dict'])\n",
        "\n",
        "\n",
        "images = images.to(device)\n",
        "labels = labels.to(device)\n",
        "\n",
        "outputs = net_best(images)"
      ],
      "metadata": {
        "id": "vzq4JtkV9gLY"
      },
      "execution_count": null,
      "outputs": []
    },
    {
      "cell_type": "code",
      "source": [
        "_, predicted = torch.max(outputs, 1)\n",
        "\n",
        "print('Predicted: ', ' '.join(f'{classes[predicted[j]]:5s}'\n",
        "                              for j in range(4)))"
      ],
      "metadata": {
        "id": "P3WqxIcY9kjk",
        "colab": {
          "base_uri": "https://localhost:8080/"
        },
        "outputId": "6edbb5c3-e362-4501-ff46-f58d6ce5f436"
      },
      "execution_count": null,
      "outputs": [
        {
          "output_type": "stream",
          "name": "stdout",
          "text": [
            "Predicted:  seven four  three eight\n"
          ]
        }
      ]
    },
    {
      "cell_type": "code",
      "source": [],
      "metadata": {
        "id": "7UWVLG7O08iG"
      },
      "execution_count": null,
      "outputs": []
    }
  ]
}