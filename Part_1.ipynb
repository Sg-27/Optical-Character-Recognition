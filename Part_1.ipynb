{
  "nbformat": 4,
  "nbformat_minor": 0,
  "metadata": {
    "colab": {
      "provenance": [],
      "gpuType": "T4",
      "include_colab_link": true
    },
    "kernelspec": {
      "name": "python3",
      "display_name": "Python 3"
    },
    "language_info": {
      "name": "python"
    },
    "accelerator": "GPU"
  },
  "cells": [
    {
      "cell_type": "markdown",
      "metadata": {
        "id": "view-in-github",
        "colab_type": "text"
      },
      "source": [
        "<a href=\"https://colab.research.google.com/github/Sg-27/Optical-Character-Recognition/blob/main/Part_1.ipynb\" target=\"_parent\"><img src=\"https://colab.research.google.com/assets/colab-badge.svg\" alt=\"Open In Colab\"/></a>"
      ]
    },
    {
      "cell_type": "markdown",
      "source": [
        "Assignment 2 :: Optical Character Recognition -- Soumyadeep Ghosh (20EC39035) and Shrija Karmakar(20EC39034)"
      ],
      "metadata": {
        "id": "L28nhnhOyRAi"
      }
    },
    {
      "cell_type": "markdown",
      "source": [
        "Part 1: Training a Resnet9 Network on MNIST Dataset"
      ],
      "metadata": {
        "id": "CK230ADU8Qqs"
      }
    },
    {
      "cell_type": "code",
      "execution_count": null,
      "metadata": {
        "colab": {
          "base_uri": "https://localhost:8080/"
        },
        "id": "e0Z5o6qSjUoe",
        "outputId": "fe535f2f-f91b-42a8-ac7e-a85d79e1dcec"
      },
      "outputs": [
        {
          "output_type": "stream",
          "name": "stdout",
          "text": [
            "We are training on cuda:0 for this experiment\n"
          ]
        }
      ],
      "source": [
        "import torch\n",
        "device = torch.device('cuda:0' if torch.cuda.is_available() else 'cpu')\n",
        "\n",
        "# Assuming that we are on a CUDA machine, this should print a CUDA device:\n",
        "\n",
        "print(f\"We are training on {device} for this experiment\")\n",
        "\n",
        "assert 'cuda' in repr(device), \"GPU is not selected in hardware accelerator dropdown\""
      ]
    },
    {
      "cell_type": "code",
      "source": [
        "from google.colab import drive\n",
        "drive.mount('/content/drive')"
      ],
      "metadata": {
        "colab": {
          "base_uri": "https://localhost:8080/"
        },
        "id": "ofB3VkXnjV5X",
        "outputId": "1f25713e-bede-4dfe-a09e-338d22b4a046"
      },
      "execution_count": null,
      "outputs": [
        {
          "output_type": "stream",
          "name": "stdout",
          "text": [
            "Mounted at /content/drive\n"
          ]
        }
      ]
    },
    {
      "cell_type": "code",
      "source": [
        "your_google_drive_path = \"/content/drive/MyDrive/checkpointss/\"\n",
        "import os\n",
        "assert os.path.isdir(your_google_drive_path), f\"{your_google_drive_path} is not a valid location\""
      ],
      "metadata": {
        "id": "ltSTSTwzjYPJ"
      },
      "execution_count": null,
      "outputs": []
    },
    {
      "cell_type": "code",
      "source": [
        "%matplotlib inline\n",
        "import torch\n",
        "import torchvision\n",
        "import torchvision.transforms as transforms"
      ],
      "metadata": {
        "id": "Qy8ctGRJjgH1"
      },
      "execution_count": null,
      "outputs": []
    },
    {
      "cell_type": "code",
      "source": [
        "\n",
        "transform = transforms.Compose([\n",
        "    transforms.ToTensor(),\n",
        "    transforms.Normalize((0.5,), (0.5,))\n",
        "])\n",
        "batch_size = 4\n",
        "\n",
        "#Getting dataset class object corresponding to train split\n",
        "trainset = torchvision.datasets.MNIST(root='./data', train=True,\n",
        "                                        download=True, transform=transform)\n",
        "\n",
        "#Creating data loader from train dataset object\n",
        "trainloader = torch.utils.data.DataLoader(trainset, batch_size=batch_size,\n",
        "                                          shuffle=True, num_workers=2)\n",
        "\n",
        "#Getting dataset class object corresponding to test split\n",
        "testset = torchvision.datasets.MNIST(root='./data', train=False,\n",
        "                                       download=True, transform=transform)\n",
        "\n",
        "#Creating data loader from test dataset object\n",
        "testloader = torch.utils.data.DataLoader(testset, batch_size=batch_size,\n",
        "                                         shuffle=False, num_workers=2)\n",
        "\n",
        "classes = ('zero', 'one', 'two', 'three',\n",
        "           'four', 'five', 'six', 'seven', 'eight', 'nine')"
      ],
      "metadata": {
        "id": "sudK0lWIlm-e",
        "colab": {
          "base_uri": "https://localhost:8080/"
        },
        "outputId": "d0ac042c-0686-42b8-ac11-d0fe404d9832"
      },
      "execution_count": null,
      "outputs": [
        {
          "output_type": "stream",
          "name": "stdout",
          "text": [
            "Downloading http://yann.lecun.com/exdb/mnist/train-images-idx3-ubyte.gz\n",
            "Downloading http://yann.lecun.com/exdb/mnist/train-images-idx3-ubyte.gz to ./data/MNIST/raw/train-images-idx3-ubyte.gz\n"
          ]
        },
        {
          "output_type": "stream",
          "name": "stderr",
          "text": [
            "100%|██████████| 9912422/9912422 [00:00<00:00, 75537815.04it/s]\n"
          ]
        },
        {
          "output_type": "stream",
          "name": "stdout",
          "text": [
            "Extracting ./data/MNIST/raw/train-images-idx3-ubyte.gz to ./data/MNIST/raw\n",
            "\n",
            "Downloading http://yann.lecun.com/exdb/mnist/train-labels-idx1-ubyte.gz\n",
            "Downloading http://yann.lecun.com/exdb/mnist/train-labels-idx1-ubyte.gz to ./data/MNIST/raw/train-labels-idx1-ubyte.gz\n"
          ]
        },
        {
          "output_type": "stream",
          "name": "stderr",
          "text": [
            "100%|██████████| 28881/28881 [00:00<00:00, 40745272.06it/s]"
          ]
        },
        {
          "output_type": "stream",
          "name": "stdout",
          "text": [
            "Extracting ./data/MNIST/raw/train-labels-idx1-ubyte.gz to ./data/MNIST/raw\n",
            "\n",
            "Downloading http://yann.lecun.com/exdb/mnist/t10k-images-idx3-ubyte.gz\n",
            "Downloading http://yann.lecun.com/exdb/mnist/t10k-images-idx3-ubyte.gz to ./data/MNIST/raw/t10k-images-idx3-ubyte.gz\n"
          ]
        },
        {
          "output_type": "stream",
          "name": "stderr",
          "text": [
            "\n",
            "100%|██████████| 1648877/1648877 [00:00<00:00, 23892885.90it/s]\n"
          ]
        },
        {
          "output_type": "stream",
          "name": "stdout",
          "text": [
            "Extracting ./data/MNIST/raw/t10k-images-idx3-ubyte.gz to ./data/MNIST/raw\n",
            "\n",
            "Downloading http://yann.lecun.com/exdb/mnist/t10k-labels-idx1-ubyte.gz\n",
            "Downloading http://yann.lecun.com/exdb/mnist/t10k-labels-idx1-ubyte.gz to ./data/MNIST/raw/t10k-labels-idx1-ubyte.gz\n"
          ]
        },
        {
          "output_type": "stream",
          "name": "stderr",
          "text": [
            "100%|██████████| 4542/4542 [00:00<00:00, 3495509.87it/s]"
          ]
        },
        {
          "output_type": "stream",
          "name": "stdout",
          "text": [
            "Extracting ./data/MNIST/raw/t10k-labels-idx1-ubyte.gz to ./data/MNIST/raw\n",
            "\n"
          ]
        },
        {
          "output_type": "stream",
          "name": "stderr",
          "text": [
            "\n"
          ]
        }
      ]
    },
    {
      "cell_type": "code",
      "source": [
        "import matplotlib.pyplot as plt\n",
        "import numpy as np\n",
        "\n",
        "# functions to show an image\n",
        "\n",
        "\n",
        "def imshow(img):\n",
        "    img = img / 2 + 0.5     # unnormalize\n",
        "    npimg = img.numpy()\n",
        "    plt.imshow(np.transpose(npimg, (1, 2, 0)))\n",
        "    plt.show()\n",
        "\n",
        "\n",
        "# get some random training images\n",
        "dataiter = iter(trainloader)\n",
        "images, labels = next(dataiter)\n",
        "\n",
        "# show images\n",
        "imshow(torchvision.utils.make_grid(images))\n",
        "# print labels\n",
        "print(' '.join(f'{classes[labels[j]]:5s}' for j in range(batch_size)))"
      ],
      "metadata": {
        "colab": {
          "base_uri": "https://localhost:8080/",
          "height": 211
        },
        "id": "4u6AG18flrGN",
        "outputId": "9b2c9529-c7ad-40a8-b1e5-527190f2fcf2"
      },
      "execution_count": null,
      "outputs": [
        {
          "output_type": "display_data",
          "data": {
            "text/plain": [
              "<Figure size 640x480 with 1 Axes>"
            ],
            "image/png": "[encoded data removed]"
          },
          "metadata": {}
        },
        {
          "output_type": "stream",
          "name": "stdout",
          "text": [
            "eight two   zero  three\n"
          ]
        }
      ]
    },
    {
      "cell_type": "code",
      "source": [
        "import torch\n",
        "import torch.nn as nn\n",
        "\n",
        "\n",
        "# Define the basic block for the ResNet\n",
        "class BasicBlock(nn.Module):\n",
        "    def __init__(self, in_channels, out_channels, stride):\n",
        "        super(BasicBlock, self).__init__()\n",
        "\n",
        "        self.conv1 = nn.Conv2d(in_channels, out_channels, kernel_size=3, stride=stride, padding=1, bias=False)\n",
        "        self.bn1 = nn.BatchNorm2d(out_channels)\n",
        "        self.relu = nn.ReLU(inplace=True)\n",
        "        self.conv2 = nn.Conv2d(out_channels, out_channels, kernel_size=3, stride=1, padding=1, bias=False)\n",
        "        self.bn2 = nn.BatchNorm2d(out_channels)\n",
        "\n",
        "        self.shortcut = nn.Sequential()\n",
        "        if stride != 1 or in_channels != out_channels:\n",
        "            self.shortcut = nn.Sequential(\n",
        "                nn.Conv2d(in_channels, out_channels, kernel_size=1, stride=stride, bias=False),\n",
        "                nn.BatchNorm2d(out_channels)\n",
        "            )\n",
        "\n",
        "    def forward(self, x):\n",
        "        residual = x\n",
        "        out = self.conv1(x)\n",
        "        out = self.bn1(out)\n",
        "        out = self.relu(out)\n",
        "        out = self.conv2(out)\n",
        "        out = self.bn2(out)\n",
        "        out += self.shortcut(residual)\n",
        "        out = self.relu(out)\n",
        "        return out\n",
        "\n",
        "# Define the ResNet-9 model\n",
        "class ResNet9(nn.Module):\n",
        "    def __init__(self, num_classes=10):\n",
        "        super(ResNet9, self).__init__()\n",
        "\n",
        "        self.conv1 = nn.Conv2d(1, 64, kernel_size=3, stride=1, padding=1, bias=False)\n",
        "        self.bn1 = nn.BatchNorm2d(64)\n",
        "        self.relu = nn.ReLU(inplace=True)\n",
        "\n",
        "        self.block1 = BasicBlock(64, 128, stride=1)\n",
        "        self.block2 = BasicBlock(128, 256, stride=1)\n",
        "        self.block3 = BasicBlock(256, 512, stride=1)\n",
        "\n",
        "        self.avg_pool = nn.AdaptiveAvgPool2d((1, 1))\n",
        "        self.fc = nn.Linear(512, num_classes)\n",
        "\n",
        "    def forward(self, x):\n",
        "        out = self.conv1(x)\n",
        "        out = self.bn1(out)\n",
        "        out = self.relu(out)\n",
        "\n",
        "        out = self.block1(out)\n",
        "        out = self.block2(out)\n",
        "        out = self.block3(out)\n",
        "\n",
        "        out = self.avg_pool(out)\n",
        "        out = out.view(out.size(0), -1)\n",
        "        out = self.fc(out)\n",
        "\n",
        "        return out\n"
      ],
      "metadata": {
        "id": "iC3AHkwoDmK6"
      },
      "execution_count": null,
      "outputs": []
    },
    {
      "cell_type": "code",
      "source": [
        "device = torch.device('cuda' if torch.cuda.is_available() else 'cpu')\n",
        "model = ResNet9().to(device)"
      ],
      "metadata": {
        "id": "AOxvBsSEnoxx"
      },
      "execution_count": null,
      "outputs": []
    },
    {
      "cell_type": "code",
      "source": [
        "import torch.optim as optim\n",
        "\n",
        "criterion = nn.CrossEntropyLoss()\n",
        "optimizer = optim.SGD(model.parameters(), lr=0.001, momentum=0.9)"
      ],
      "metadata": {
        "id": "CRTsm2khngX5"
      },
      "execution_count": null,
      "outputs": []
    },
    {
      "cell_type": "code",
      "source": [
        "def validator(testloader=None,net=None):\n",
        "    correct = 0\n",
        "    total = 0\n",
        "    net.eval()\n",
        "    # since we're not training, we don't need to calculate the gradients for our outputs\n",
        "    with torch.no_grad():\n",
        "        for data in testloader:\n",
        "            images, labels = data\n",
        "            images = images.to(device)\n",
        "            labels = labels.to(device)\n",
        "\n",
        "            # calculate outputs by running images through the network\n",
        "            outputs = net(images)\n",
        "            # the class with the highest energy is what we choose as prediction\n",
        "            # perform max along dimension 1, since dimension 0 is batch dimension\n",
        "            _, predicted = torch.max(outputs.data, 1)\n",
        "            total += labels.size(0)\n",
        "            correct += (predicted == labels).sum().item()\n",
        "\n",
        "    print(f'Accuracy of the network on the 10000 test images: {100 * correct // total} %')\n",
        "    return correct/total"
      ],
      "metadata": {
        "id": "k_R_IKQyD-1U"
      },
      "execution_count": null,
      "outputs": []
    },
    {
      "cell_type": "code",
      "source": [
        "start_epoch=0\n",
        "end_epoch=5\n"
      ],
      "metadata": {
        "id": "hEEPKdlWEGvR"
      },
      "execution_count": null,
      "outputs": []
    },
    {
      "cell_type": "code",
      "source": [
        "best_accuracy = -1.0\n",
        "for epoch in range(start_epoch,end_epoch):  # loop over the dataset multiple times\n",
        "\n",
        "    running_loss = 0.0\n",
        "    for i, data in enumerate(trainloader, 0):\n",
        "        # get the inputs; data is a list of [inputs, labels]\n",
        "        inputs, labels = data\n",
        "\n",
        "        inputs = inputs.to(device)\n",
        "        labels = labels.to(device)\n",
        "\n",
        "        # zero the parameter gradients\n",
        "        optimizer.zero_grad()\n",
        "\n",
        "        # forward + backward + optimize\n",
        "        outputs = model(inputs)\n",
        "        loss = criterion(outputs, labels)\n",
        "        loss.backward()\n",
        "        optimizer.step()\n",
        "\n",
        "        # print statistics\n",
        "        running_loss += loss.item()\n",
        "        if i % 2000 == 1999:    # print every 2000 mini-batches\n",
        "            print(f'[{epoch + 1}, {i + 1:5d}] loss: {running_loss / 2000:.3f}')\n",
        "            running_loss = 0.0\n",
        "\n",
        "    current_accuracy = validator(testloader=testloader,net=model)\n",
        "    if current_accuracy>best_accuracy:\n",
        "        best_accuracy = current_accuracy\n",
        "\n",
        "        torch.save(\n",
        "            {'epoch':epoch,\n",
        "             'model_state_dict': model.state_dict(),\n",
        "             'optimizer_state_dict': optimizer.state_dict()\n",
        "             },\n",
        "\n",
        "             your_google_drive_path+'best_model.pth')\n",
        "\n",
        "    #Save model as checkpoint\n",
        "    torch.save(\n",
        "        {'epoch':epoch,\n",
        "         'model_state_dict': model.state_dict(),\n",
        "         'optimizer_state_dict': optimizer.state_dict()\n",
        "         },\n",
        "         your_google_drive_path+'checkpoint.pth')\n",
        "\n",
        "\n",
        "\n",
        "print('Finished Training')"
      ],
      "metadata": {
        "colab": {
          "base_uri": "https://localhost:8080/"
        },
        "id": "EMetgKtCELFM",
        "outputId": "35b94fed-6720-4432-bb08-8000b6b7f6ec"
      },
      "execution_count": null,
      "outputs": [
        {
          "output_type": "stream",
          "name": "stdout",
          "text": [
            "[1,  2000] loss: 0.848\n",
            "[1,  4000] loss: 0.253\n",
            "[1,  6000] loss: 0.162\n",
            "[1,  8000] loss: 0.126\n",
            "[1, 10000] loss: 0.102\n",
            "[1, 12000] loss: 0.076\n",
            "[1, 14000] loss: 0.078\n",
            "Accuracy of the network on the 10000 test images: 98 %\n",
            "[2,  2000] loss: 0.185\n",
            "[2,  4000] loss: 0.104\n",
            "[2,  6000] loss: 0.071\n",
            "[2,  8000] loss: 0.070\n",
            "[2, 10000] loss: 0.059\n",
            "[2, 12000] loss: 0.055\n",
            "[2, 14000] loss: 0.059\n",
            "Accuracy of the network on the 10000 test images: 98 %\n",
            "[3,  2000] loss: 0.051\n",
            "[3,  4000] loss: 0.043\n",
            "[3,  6000] loss: 0.039\n",
            "[3,  8000] loss: 0.036\n",
            "[3, 10000] loss: 0.043\n",
            "[3, 12000] loss: 0.040\n",
            "[3, 14000] loss: 0.036\n",
            "Accuracy of the network on the 10000 test images: 99 %\n",
            "[4,  2000] loss: 0.029\n",
            "[4,  4000] loss: 0.036\n",
            "[4,  6000] loss: 0.033\n",
            "[4,  8000] loss: 0.029\n",
            "[4, 10000] loss: 0.026\n",
            "[4, 12000] loss: 0.036\n",
            "[4, 14000] loss: 0.031\n",
            "Accuracy of the network on the 10000 test images: 98 %\n",
            "[5,  2000] loss: 0.026\n",
            "[5,  4000] loss: 0.025\n",
            "[5,  6000] loss: 0.031\n",
            "[5,  8000] loss: 0.025\n",
            "[5, 10000] loss: 0.029\n",
            "[5, 12000] loss: 0.023\n",
            "[5, 14000] loss: 0.023\n",
            "Accuracy of the network on the 10000 test images: 99 %\n",
            "Finished Training\n"
          ]
        }
      ]
    },
    {
      "cell_type": "code",
      "source": [
        "dataiter = iter(testloader)\n",
        "images, labels = next(dataiter)\n",
        "# print images\n",
        "imshow(torchvision.utils.make_grid(images))\n",
        "print('GroundTruth: ', ' '.join(f'{classes[labels[j]]:5s}' for j in range(4)))"
      ],
      "metadata": {
        "colab": {
          "base_uri": "https://localhost:8080/",
          "height": 211
        },
        "id": "x64UrNknxswU",
        "outputId": "edc2e278-b266-433c-f0fb-62df002a8d4b"
      },
      "execution_count": null,
      "outputs": [
        {
          "output_type": "display_data",
          "data": {
            "text/plain": [
              "<Figure size 640x480 with 1 Axes>"
            ],
            "image/png": "[encoded data removed]"
          },
          "metadata": {}
        },
        {
          "output_type": "stream",
          "name": "stdout",
          "text": [
            "GroundTruth:  seven two   one   zero \n"
          ]
        }
      ]
    },
    {
      "cell_type": "code",
      "source": [
        "net_best = ResNet9().to(device)\n",
        "checkpoint = torch.load(your_google_drive_path+'best_model.pth')\n",
        "net_best.load_state_dict(checkpoint['model_state_dict'])\n",
        "\n",
        "\n",
        "images = images.to(device)\n",
        "labels = labels.to(device)\n",
        "\n",
        "outputs = net_best(images)"
      ],
      "metadata": {
        "id": "b2Zas4F0xvl9"
      },
      "execution_count": null,
      "outputs": []
    },
    {
      "cell_type": "code",
      "source": [
        "_, predicted = torch.max(outputs, 1)\n",
        "\n",
        "print('Predicted: ', ' '.join(f'{classes[predicted[j]]:5s}'\n",
        "                              for j in range(4)))"
      ],
      "metadata": {
        "colab": {
          "base_uri": "https://localhost:8080/"
        },
        "id": "GmfA8-Z9x1Sh",
        "outputId": "5c632dfb-7fbe-4989-d9ca-16fd836ad980"
      },
      "execution_count": null,
      "outputs": [
        {
          "output_type": "stream",
          "name": "stdout",
          "text": [
            "Predicted:  seven two   one   zero \n"
          ]
        }
      ]
    },
    {
      "cell_type": "markdown",
      "source": [
        "Part 2 : Builiding Custom Dataset"
      ],
      "metadata": {
        "id": "y3-yVMMg6ElE"
      }
    },
    {
      "cell_type": "code",
      "source": [
        "your_google_drive_path = \"/content/drive/MyDrive/Custom Dataset/\"\n",
        "import os\n",
        "assert os.path.isdir(your_google_drive_path), f\"{your_google_drive_path} is not a valid location\""
      ],
      "metadata": {
        "id": "bhxBp47zQL6t"
      },
      "execution_count": null,
      "outputs": []
    },
    {
      "cell_type": "code",
      "source": [
        "import os\n",
        "from PIL import Image\n",
        "import torch\n",
        "from torch.utils.data import Dataset, random_split\n",
        "import torchvision.transforms as transforms"
      ],
      "metadata": {
        "id": "9CLm4L97bVFj"
      },
      "execution_count": null,
      "outputs": []
    },
    {
      "cell_type": "code",
      "source": [
        "class CustomDigitsDataset(Dataset):\n",
        "    def __init__(self, root_folder, transform=None):\n",
        "        self.root_folder = root_folder\n",
        "        self.transform = transform\n",
        "        self.data, self.labels = self.load_data()\n",
        "\n",
        "\n",
        "    def load_data(self):\n",
        "        data = []\n",
        "        labels = []\n",
        "        digit_folders = sorted(os.listdir(self.root_folder))\n",
        "\n",
        "        for label, digit_folder in enumerate(digit_folders):\n",
        "            digit_path = os.path.join(self.root_folder, digit_folder)\n",
        "            for image_name in os.listdir(digit_path):\n",
        "                image_path = os.path.join(digit_path, image_name)\n",
        "                img = Image.open(image_path).convert('L')  # Convert to grayscale\n",
        "\n",
        "\n",
        "                data.append(img)\n",
        "                labels.append(label)\n",
        "                #print(label)\n",
        "\n",
        "        return data, labels\n",
        "\n",
        "    def __len__(self):\n",
        "        return len(self.data)\n",
        "\n",
        "    def __getitem__(self, index):\n",
        "        img = self.data[index]\n",
        "        label = self.labels[index]\n",
        "\n",
        "        if self.transform:\n",
        "            img = self.transform(img)\n",
        "\n",
        "        return img, label"
      ],
      "metadata": {
        "id": "6HTFohGLQPDx"
      },
      "execution_count": null,
      "outputs": []
    },
    {
      "cell_type": "code",
      "source": [
        "transform = transforms.Compose([\n",
        "    transforms.ToTensor(),\n",
        "    transforms.Resize(size=(32,32)),\n",
        "    transforms.Normalize((0.5),(0.5)),\n",
        "    transforms.RandomInvert(1)\n",
        "\n",
        "])\n",
        "batch_size=4\n",
        "\n",
        "# Specify the path to the root folder containing digit folders\n",
        "\n",
        "your_google_drive_path='/content/drive/MyDrive/Custom Dataset'\n",
        "custom_dataset = CustomDigitsDataset(your_google_drive_path, transform=transform)\n",
        "\n",
        "# Split the dataset into training and testing sets\n",
        "print(len(custom_dataset))\n",
        "train_size = int(0.8 * len(custom_dataset))\n",
        "test_size = len(custom_dataset) - train_size\n",
        "train_dataset, test_dataset = random_split(custom_dataset, [train_size, test_size])\n",
        "\n",
        "# Example usage:\n",
        "train_loader = torch.utils.data.DataLoader(train_dataset, batch_size=batch_size, shuffle=True)\n",
        "test_loader = torch.utils.data.DataLoader(test_dataset, batch_size=batch_size, shuffle=False)"
      ],
      "metadata": {
        "colab": {
          "base_uri": "https://localhost:8080/"
        },
        "id": "HUwhgKFKQP6C",
        "outputId": "bb3ef46e-ec3b-4b04-ff86-6e8b4d01c517"
      },
      "execution_count": null,
      "outputs": [
        {
          "output_type": "stream",
          "name": "stdout",
          "text": [
            "540\n"
          ]
        }
      ]
    },
    {
      "cell_type": "code",
      "source": [
        "import matplotlib.pyplot as plt\n",
        "import numpy as np\n",
        "def imshow(img):\n",
        "    img = img / 2 + 0.5     # unnormalize\n",
        "    npimg = img.numpy()\n",
        "    plt.imshow(np.transpose(npimg, (1, 2, 0)))\n",
        "    plt.show()\n",
        "\n",
        "\n",
        "# get some random training images\n",
        "dataiter = iter(train_loader)\n",
        "images, labels = next(dataiter)\n",
        "print(images.shape)\n",
        "classes = ('zero', 'one', 'two', 'three',\n",
        "           'four', 'five','six','seven','eight','nine')\n",
        "# show imagesname.startswith('block3') or\n",
        "imshow(torchvision.utils.make_grid(images))\n",
        "# print labels\n",
        "print(' '.join(f'{classes[labels[j]]:5s}' for j in range(batch_size)))"
      ],
      "metadata": {
        "id": "-72ZkgKoj2U7",
        "colab": {
          "base_uri": "https://localhost:8080/",
          "height": 300
        },
        "outputId": "ccb3986c-d284-45e5-e78a-6170855b7890"
      },
      "execution_count": null,
      "outputs": [
        {
          "output_type": "stream",
          "name": "stderr",
          "text": [
            "/usr/local/lib/python3.10/dist-packages/torchvision/transforms/functional.py:1603: UserWarning: The default value of the antialias parameter of all the resizing transforms (Resize(), RandomResizedCrop(), etc.) will change from None to True in v0.17, in order to be consistent across the PIL and Tensor backends. To suppress this warning, directly pass antialias=True (recommended, future default), antialias=None (current default, which means False for Tensors and True for PIL), or antialias=False (only works on Tensors - PIL will still use antialiasing). This also applies if you are using the inference transforms from the models weights: update the call to weights.transforms(antialias=True).\n",
            "  warnings.warn(\n",
            "WARNING:matplotlib.image:Clipping input data to the valid range for imshow with RGB data ([0..1] for floats or [0..255] for integers).\n"
          ]
        },
        {
          "output_type": "stream",
          "name": "stdout",
          "text": [
            "torch.Size([4, 1, 32, 32])\n"
          ]
        },
        {
          "output_type": "display_data",
          "data": {
            "text/plain": [
              "<Figure size 640x480 with 1 Axes>"
            ],
            "image/png": "[encoded data removed]"
          },
          "metadata": {}
        },
        {
          "output_type": "stream",
          "name": "stdout",
          "text": [
            "zero  five  two   eight\n"
          ]
        }
      ]
    },
    {
      "cell_type": "markdown",
      "source": [
        "Part 4: Transfer Learning with Fine Tuning"
      ],
      "metadata": {
        "id": "NwqcO0niyHg6"
      }
    },
    {
      "cell_type": "code",
      "source": [
        "# device = torch.device('cuda' if torch.cuda.is_available() else 'cpu')\n",
        "# model = ResNet9().to(device)\n",
        "# Freeze all layers of the pre-trained ResNet9 model except the final fully connected layer\n",
        "# for name, param in model.named_parameters():\n",
        "#     if name.startswith('fc'):  # Unfreeze only the parameters of the fully connected layer\n",
        "#         param.requires_grad = True\n",
        "#     else:\n",
        "#         param.requires_grad = False\n",
        "params_update = []\n",
        "for name, param in model.named_parameters():\n",
        "    if name.startswith('block3') or name.startswith('fc'):\n",
        "    #if name.startswith('block1') or name.startswith('block2') or name.startswith('block3') or name.startswith('fc'):\n",
        "    #if name.startswith('fc'):\n",
        "        param.requires_grad = True\n",
        "        params_update.append(param)\n",
        "    else:\n",
        "        param.requires_grad = False\n",
        "    print(name)"
      ],
      "metadata": {
        "id": "TjO7wHP0Ohzp",
        "colab": {
          "base_uri": "https://localhost:8080/"
        },
        "outputId": "7ae7b865-2483-4c33-888c-554d70b2a503"
      },
      "execution_count": null,
      "outputs": [
        {
          "output_type": "stream",
          "name": "stdout",
          "text": [
            "conv1.weight\n",
            "bn1.weight\n",
            "bn1.bias\n",
            "block1.conv1.weight\n",
            "block1.bn1.weight\n",
            "block1.bn1.bias\n",
            "block1.conv2.weight\n",
            "block1.bn2.weight\n",
            "block1.bn2.bias\n",
            "block1.shortcut.0.weight\n",
            "block1.shortcut.1.weight\n",
            "block1.shortcut.1.bias\n",
            "block2.conv1.weight\n",
            "block2.bn1.weight\n",
            "block2.bn1.bias\n",
            "block2.conv2.weight\n",
            "block2.bn2.weight\n",
            "block2.bn2.bias\n",
            "block2.shortcut.0.weight\n",
            "block2.shortcut.1.weight\n",
            "block2.shortcut.1.bias\n",
            "block3.conv1.weight\n",
            "block3.bn1.weight\n",
            "block3.bn1.bias\n",
            "block3.conv2.weight\n",
            "block3.bn2.weight\n",
            "block3.bn2.bias\n",
            "block3.shortcut.0.weight\n",
            "block3.shortcut.1.weight\n",
            "block3.shortcut.1.bias\n",
            "fc.weight\n",
            "fc.bias\n"
          ]
        }
      ]
    },
    {
      "cell_type": "code",
      "source": [
        "for name, param in model.named_parameters():\n",
        "    #if name.startswith('block3') or name.startswith('fc'):\n",
        "\n",
        "        if param.requires_grad == True:\n",
        "            print(name)\n"
      ],
      "metadata": {
        "colab": {
          "base_uri": "https://localhost:8080/"
        },
        "id": "OmpmnYjbxadF",
        "outputId": "e13261ec-470e-42dc-81f3-7a56db18e48b"
      },
      "execution_count": null,
      "outputs": [
        {
          "output_type": "stream",
          "name": "stdout",
          "text": [
            "block3.conv1.weight\n",
            "block3.bn1.weight\n",
            "block3.bn1.bias\n",
            "block3.conv2.weight\n",
            "block3.bn2.weight\n",
            "block3.bn2.bias\n",
            "block3.shortcut.0.weight\n",
            "block3.shortcut.1.weight\n",
            "block3.shortcut.1.bias\n",
            "fc.weight\n",
            "fc.bias\n"
          ]
        }
      ]
    },
    {
      "cell_type": "code",
      "source": [
        "import torch.optim as optim\n",
        "\n",
        "criterion = nn.CrossEntropyLoss()\n",
        "#optimizer = optim.SGD(model.parameters(), lr=0.001, momentum=0.9)\n",
        "optimizer = optim.SGD(params_update, lr=0.001, momentum=0.9)"
      ],
      "metadata": {
        "id": "5v-UezfGOnwf"
      },
      "execution_count": null,
      "outputs": []
    },
    {
      "cell_type": "code",
      "source": [
        "list(model.parameters())"
      ],
      "metadata": {
        "id": "3M4ML4VizyJ-"
      },
      "execution_count": null,
      "outputs": []
    },
    {
      "cell_type": "code",
      "source": [
        "def validator(test_loader=None,model=None):\n",
        "    correct = 0\n",
        "    total = 0\n",
        "    model.eval()\n",
        "    # since we're not training, we don't need to calculate the gradients for our outputs\n",
        "    with torch.no_grad():\n",
        "        for data in test_loader:\n",
        "            images, labels = data\n",
        "            images = images.to(device)\n",
        "            labels = labels.to(device)\n",
        "\n",
        "            # calculate outputs by running images through the network\n",
        "            outputs = model(images)\n",
        "            # the class with the highest energy is what we choose as prediction\n",
        "            # perform max along dimension 1, since dimension 0 is batch dimension\n",
        "            _, predicted = torch.max(outputs.data, 1)\n",
        "            total += labels.size(0)\n",
        "            correct += (predicted == labels).sum().item()\n",
        "\n",
        "    print(f'Accuracy of the network on the 540 test images: {100 * correct // total} %')\n",
        "    return correct/total"
      ],
      "metadata": {
        "id": "haiUzHyCOq8n"
      },
      "execution_count": null,
      "outputs": []
    },
    {
      "cell_type": "code",
      "source": [
        "your_google_drive_path=\"/content/drive/MyDrive/checkpoint2/\""
      ],
      "metadata": {
        "id": "o6XGmqLgOsCS"
      },
      "execution_count": null,
      "outputs": []
    },
    {
      "cell_type": "code",
      "source": [
        "start_epoch=0\n",
        "end_epoch=40"
      ],
      "metadata": {
        "id": "SYeq6UmqeBeC"
      },
      "execution_count": null,
      "outputs": []
    },
    {
      "cell_type": "code",
      "source": [
        "best_accuracy = -1.0\n",
        "for epoch in range(start_epoch,end_epoch):  # loop over the dataset multiple times\n",
        "\n",
        "    running_loss = 0.0\n",
        "    for i, data in enumerate(train_loader, 0):\n",
        "        # get the inputs; data is a list of [inputs, labels]\n",
        "        inputs, labels = data\n",
        "\n",
        "        inputs = inputs.to(device)\n",
        "        labels = labels.to(device)\n",
        "\n",
        "        # zero the parameter gradients\n",
        "        optimizer.zero_grad()\n",
        "\n",
        "        # forward + backward + optimize\n",
        "        outputs = model(inputs)\n",
        "        loss = criterion(outputs, labels)\n",
        "        loss.backward()\n",
        "        optimizer.step()\n",
        "\n",
        "        # print statistics\n",
        "        running_loss += loss.item()\n",
        "        if i % 2000 == 1999:    # print every 2000 mini-batches\n",
        "            print(f'[{epoch + 1}, {i + 1:5d}] loss: {running_loss / 2000:.3f}')\n",
        "            running_loss = 0.0\n",
        "\n",
        "    current_accuracy = validator(test_loader=test_loader,model=model)\n",
        "    if current_accuracy>best_accuracy:\n",
        "        best_accuracy = current_accuracy\n",
        "\n",
        "        torch.save(\n",
        "            {'epoch':epoch,\n",
        "             'model_state_dict': model.state_dict(),\n",
        "             'optimizer_state_dict': optimizer.state_dict()\n",
        "             },\n",
        "\n",
        "             your_google_drive_path+'best_model.pth')\n",
        "\n",
        "    #Save model as checkpoint\n",
        "    torch.save(\n",
        "        {'epoch':epoch,\n",
        "         'model_state_dict': model.state_dict(),\n",
        "         'optimizer_state_dict': optimizer.state_dict()\n",
        "         },\n",
        "         your_google_drive_path+'checkpoint.pth')\n",
        "\n",
        "\n",
        "\n",
        "print('Finished Training')"
      ],
      "metadata": {
        "colab": {
          "base_uri": "https://localhost:8080/"
        },
        "id": "aXaVSFHjQ-t9",
        "outputId": "fac3e553-1523-45d5-e843-a6b2cf7e9650"
      },
      "execution_count": null,
      "outputs": [
        {
          "output_type": "stream",
          "name": "stdout",
          "text": [
            "Accuracy of the network on the 540 test images: 10 %\n",
            "Accuracy of the network on the 540 test images: 24 %\n",
            "Accuracy of the network on the 540 test images: 26 %\n",
            "Accuracy of the network on the 540 test images: 25 %\n",
            "Accuracy of the network on the 540 test images: 47 %\n",
            "Accuracy of the network on the 540 test images: 67 %\n",
            "Accuracy of the network on the 540 test images: 68 %\n",
            "Accuracy of the network on the 540 test images: 55 %\n",
            "Accuracy of the network on the 540 test images: 79 %\n",
            "Accuracy of the network on the 540 test images: 75 %\n",
            "Accuracy of the network on the 540 test images: 84 %\n",
            "Accuracy of the network on the 540 test images: 71 %\n",
            "Accuracy of the network on the 540 test images: 79 %\n",
            "Accuracy of the network on the 540 test images: 75 %\n",
            "Accuracy of the network on the 540 test images: 90 %\n",
            "Accuracy of the network on the 540 test images: 80 %\n",
            "Accuracy of the network on the 540 test images: 85 %\n",
            "Accuracy of the network on the 540 test images: 87 %\n",
            "Accuracy of the network on the 540 test images: 87 %\n",
            "Accuracy of the network on the 540 test images: 87 %\n",
            "Accuracy of the network on the 540 test images: 87 %\n",
            "Accuracy of the network on the 540 test images: 92 %\n",
            "Accuracy of the network on the 540 test images: 87 %\n",
            "Accuracy of the network on the 540 test images: 92 %\n",
            "Accuracy of the network on the 540 test images: 92 %\n",
            "Accuracy of the network on the 540 test images: 84 %\n",
            "Accuracy of the network on the 540 test images: 93 %\n",
            "Accuracy of the network on the 540 test images: 89 %\n",
            "Accuracy of the network on the 540 test images: 92 %\n",
            "Accuracy of the network on the 540 test images: 88 %\n",
            "Accuracy of the network on the 540 test images: 91 %\n",
            "Accuracy of the network on the 540 test images: 95 %\n",
            "Accuracy of the network on the 540 test images: 91 %\n",
            "Accuracy of the network on the 540 test images: 92 %\n",
            "Accuracy of the network on the 540 test images: 90 %\n",
            "Accuracy of the network on the 540 test images: 96 %\n",
            "Accuracy of the network on the 540 test images: 92 %\n",
            "Accuracy of the network on the 540 test images: 95 %\n",
            "Accuracy of the network on the 540 test images: 93 %\n",
            "Accuracy of the network on the 540 test images: 97 %\n",
            "Finished Training\n"
          ]
        }
      ]
    },
    {
      "cell_type": "code",
      "source": [
        "dataiter = iter(test_loader)\n",
        "images, labels = next(dataiter)\n",
        "\n",
        "images, labels = next(dataiter)\n",
        "\n",
        "images, labels = next(dataiter)\n",
        "images, labels = next(dataiter)\n",
        "batch_size=4\n",
        "\n",
        "# print images\n",
        "imshow(torchvision.utils.make_grid(images))\n",
        "#print('GroundTruth: ', ' '.join(f'{classes[labels[j]]:5s}' for j in range(4)))\n",
        "print(' '.join(f'{classes[labels[j]]:5s}' for j in range(batch_size)))"
      ],
      "metadata": {
        "colab": {
          "base_uri": "https://localhost:8080/",
          "height": 228
        },
        "id": "1p103sr5eYWQ",
        "outputId": "10108102-51b8-455d-e1db-5354a3477bc5"
      },
      "execution_count": null,
      "outputs": [
        {
          "output_type": "stream",
          "name": "stderr",
          "text": [
            "WARNING:matplotlib.image:Clipping input data to the valid range for imshow with RGB data ([0..1] for floats or [0..255] for integers).\n"
          ]
        },
        {
          "output_type": "display_data",
          "data": {
            "text/plain": [
              "<Figure size 640x480 with 1 Axes>"
            ],
            "image/png": "[encoded data removed]"
          },
          "metadata": {}
        },
        {
          "output_type": "stream",
          "name": "stdout",
          "text": [
            "nine  seven three six  \n"
          ]
        }
      ]
    },
    {
      "cell_type": "code",
      "source": [
        "net_best = ResNet9().to(device)\n",
        "checkpoint = torch.load(your_google_drive_path+'best_model.pth')\n",
        "net_best.load_state_dict(checkpoint['model_state_dict'])\n",
        "\n",
        "\n",
        "images = images.to(device)\n",
        "labels = labels.to(device)\n",
        "\n",
        "outputs = net_best(images)"
      ],
      "metadata": {
        "id": "euCUpI4BgBjx"
      },
      "execution_count": null,
      "outputs": []
    },
    {
      "cell_type": "code",
      "source": [
        "_, predicted = torch.max(outputs, 1)\n",
        "\n",
        "print('Predicted: ', ' '.join(f'{classes[predicted[j]]:5s}'\n",
        "                              for j in range(4)))"
      ],
      "metadata": {
        "colab": {
          "base_uri": "https://localhost:8080/"
        },
        "id": "W1KrF-x-gEAP",
        "outputId": "eb6ef18e-331a-46b6-8133-9b7693ae6878"
      },
      "execution_count": null,
      "outputs": [
        {
          "output_type": "stream",
          "name": "stdout",
          "text": [
            "Predicted:  two   zero  zero  five \n"
          ]
        }
      ]
    },
    {
      "cell_type": "code",
      "source": [
        "print(param.requires_grad)"
      ],
      "metadata": {
        "colab": {
          "base_uri": "https://localhost:8080/"
        },
        "id": "mwrx5yLvyAS7",
        "outputId": "34074782-bce7-48ec-ce11-5d8c0a51cda1"
      },
      "execution_count": null,
      "outputs": [
        {
          "output_type": "stream",
          "name": "stdout",
          "text": [
            "True\n"
          ]
        }
      ]
    }
  ]
}